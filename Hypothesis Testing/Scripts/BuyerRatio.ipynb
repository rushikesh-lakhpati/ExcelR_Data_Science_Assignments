{
 "cells": [
  {
   "cell_type": "code",
   "execution_count": 1,
   "id": "947bc1a4-2155-401a-87b8-485c87e5b477",
   "metadata": {},
   "outputs": [],
   "source": [
    "import pandas as pd\n",
    "import numpy as np\n",
    "from scipy import stats"
   ]
  },
  {
   "cell_type": "markdown",
   "id": "08b7d05f-3526-4049-b5e2-af5f7223f26b",
   "metadata": {},
   "source": [
    "Problem Statement :\r\n",
    "Sales of products in four different regions is tabulated for males and females. Find if male-female buyer rations are similar across regions\r\n",
    "\r\n",
    "1 - Business Problem\r\n",
    "Is the male-female buyer rations are similar across regions\r\n",
    "\r\n",
    "2 - Data description\r\n",
    "α == 0.05 (95% Confidence)\r\n",
    "\r\n",
    "Y == Discrete\r\n",
    "X == Discrete\r\n",
    "\r\n",
    "Since there are more than 2 variable we will perform Chi-Square test\r\n",
    "\r\n",
    "3 - Chi-Square Test"
   ]
  },
  {
   "cell_type": "code",
   "execution_count": 2,
   "id": "5076a78d-f136-4d79-90b4-54ecc34c9521",
   "metadata": {},
   "outputs": [],
   "source": [
    "df = pd.read_csv(\"C:/Users/hp/OneDrive/Desktop/DataScience Assignment/Hypothesis Testing/Raw_Data/BuyerRatio.csv\")"
   ]
  },
  {
   "cell_type": "markdown",
   "id": "31b0a958-f0bd-41ad-97d0-345d86302239",
   "metadata": {},
   "source": [
    "H0 == The male-female buyer rations are similar across regions\n",
    "H1 == The male-female buyer rations are not similar across regions"
   ]
  },
  {
   "cell_type": "code",
   "execution_count": 3,
   "id": "80ff56bf-02aa-4855-b945-9ed4ef46c18c",
   "metadata": {},
   "outputs": [
    {
     "data": {
      "text/plain": [
       "Chi2ContingencyResult(statistic=1.5959455386610577, pvalue=0.6603094907091882, dof=3, expected_freq=array([[  42.76531299,  442.23468701],\n",
       "       [ 146.81287862, 1518.18712138],\n",
       "       [ 131.11756787, 1355.88243213],\n",
       "       [  72.30424052,  747.69575948]]))"
      ]
     },
     "execution_count": 3,
     "metadata": {},
     "output_type": "execute_result"
    }
   ],
   "source": [
    "stats.chi2_contingency([df[\"East\"], df[\"West\"], df[\"North\"], df[\"South\"]])"
   ]
  },
  {
   "cell_type": "markdown",
   "id": "9b8a22e0-3aaa-4d9a-9b11-d9c1636b4d0c",
   "metadata": {},
   "source": [
    "P value of Chi-Square test == 0.66 > α"
   ]
  },
  {
   "cell_type": "markdown",
   "id": "c007da70-0fd6-43be-8d26-d9cf7c843e2f",
   "metadata": {},
   "source": [
    "Thus HO is accepted.\n",
    "The male-female buyer rations are similar across regions."
   ]
  }
 ],
 "metadata": {
  "kernelspec": {
   "display_name": "Python 3 (ipykernel)",
   "language": "python",
   "name": "python3"
  },
  "language_info": {
   "codemirror_mode": {
    "name": "ipython",
    "version": 3
   },
   "file_extension": ".py",
   "mimetype": "text/x-python",
   "name": "python",
   "nbconvert_exporter": "python",
   "pygments_lexer": "ipython3",
   "version": "3.12.0"
  }
 },
 "nbformat": 4,
 "nbformat_minor": 5
}
