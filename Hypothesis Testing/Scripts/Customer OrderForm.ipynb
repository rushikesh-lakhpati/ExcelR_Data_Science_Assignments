{
 "cells": [
  {
   "cell_type": "code",
   "execution_count": null,
   "id": "0908858d-b312-47d2-92f1-ce0e8086a4fb",
   "metadata": {},
   "outputs": [],
   "source": [
    "import pandas as pd\n",
    "import nump"
   ]
  },
  {
   "cell_type": "markdown",
   "id": "8c6bd849-09f6-465e-b583-dcff32286901",
   "metadata": {},
   "source": [
    "Problem Statement :\r\n",
    "TeleCall uses 4 centers around the globe to process customer order forms. They audit a certain % of the customer order forms. Any error in order form renders it defective and has to be reworked before processing. The manager wants to check whether the defective % varies by centre. Please analyze the data at 5% significance level and help the manager draw appropriate inferences\r\n",
    "\r\n",
    "1 - Business Problem\r\n",
    "Does the defective % varies significantly by centre ?\r\n",
    "\r\n",
    "2 - Data description\r\n",
    "α == 0.05 (95% Confidence)\r\n",
    "\r\n",
    "Y == Discrete\r\n",
    "X == Discrete\r\n",
    "\r\n",
    "Since there are more than 2 variable we will perform Chi-Square test\r\n",
    "\r\n",
    "3 - Chi-Square Test"
   ]
  },
  {
   "cell_type": "code",
   "execution_count": 15,
   "id": "317465e8-e0d1-418d-ac70-1c44c8b2c881",
   "metadata": {},
   "outputs": [],
   "source": [
    "df = pd.read_csv(\"C:/Users/hp/OneDrive/Desktop/DataScience Assignment/Hypothesis Testing/Costomer+OrderForm.csv\")"
   ]
  },
  {
   "cell_type": "markdown",
   "id": "eb1fd2fc-3a23-4396-9ce5-3fd1676a0fe0",
   "metadata": {},
   "source": [
    "H0 == The defective % does not varies by centre\n",
    "H1 == The defective % does varies by centre"
   ]
  },
  {
   "cell_type": "code",
   "execution_count": 16,
   "id": "a75ec090-7185-4c56-a7c9-f8ad58beeec4",
   "metadata": {},
   "outputs": [
    {
     "data": {
      "text/plain": [
       "Chi2ContingencyResult(statistic=3.8589606858203545, pvalue=0.27710209912331435, dof=3, expected_freq=array([[271.75,  28.25],\n",
       "       [271.75,  28.25],\n",
       "       [271.75,  28.25],\n",
       "       [271.75,  28.25]]))"
      ]
     },
     "execution_count": 16,
     "metadata": {},
     "output_type": "execute_result"
    }
   ],
   "source": [
    "stats.chi2_contingency([df['Phillippines'].value_counts(), df['Indonesia'].value_counts(), df['Malta'].value_counts(), df['India'].value_counts()])"
   ]
  },
  {
   "cell_type": "markdown",
   "id": "517f02e3-278b-42a9-a3b0-a7442339076e",
   "metadata": {},
   "source": [
    "P value of Chi-Square test == 0.277 > α\n",
    "Thus HO is accepted.\r\n",
    "The defective % does not varies significantly by centres"
   ]
  },
  {
   "cell_type": "code",
   "execution_count": null,
   "id": "8fd5b52c-e518-49b0-97f7-54e5bb01d9aa",
   "metadata": {},
   "outputs": [],
   "source": []
  }
 ],
 "metadata": {
  "kernelspec": {
   "display_name": "Python 3 (ipykernel)",
   "language": "python",
   "name": "python3"
  },
  "language_info": {
   "codemirror_mode": {
    "name": "ipython",
    "version": 3
   },
   "file_extension": ".py",
   "mimetype": "text/x-python",
   "name": "python",
   "nbconvert_exporter": "python",
   "pygments_lexer": "ipython3",
   "version": "3.12.0"
  }
 },
 "nbformat": 4,
 "nbformat_minor": 5
}
