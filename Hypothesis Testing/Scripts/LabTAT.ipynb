{
 "cells": [
  {
   "cell_type": "code",
   "execution_count": 1,
   "id": "b5eb8827-a817-480f-b4f8-2a69097344aa",
   "metadata": {},
   "outputs": [],
   "source": [
    "import pandas as pd\n",
    "import numpy as np\n",
    "from scipy import stats"
   ]
  },
  {
   "cell_type": "markdown",
   "id": "edc5def4-1530-4237-8bde-cd17e5807f48",
   "metadata": {},
   "source": [
    "Problem Statement :"
   ]
  },
  {
   "cell_type": "markdown",
   "id": "8de40f52-d8cd-455f-b12e-cc4acec0635c",
   "metadata": {},
   "source": [
    "A hospital wants to determine whether there is any difference in the average Turn Around Time (TAT) of reports of the laboratories on their preferred list. They collected a random sample and recorded TAT for reports of 4 laboratories. TAT is defined as sample collected to report dispatch"
   ]
  },
  {
   "cell_type": "markdown",
   "id": "3ae1e194-c235-4483-8ce8-5f3987980f5d",
   "metadata": {},
   "source": [
    "Analyze the data and determine whether there is any difference in average TAT among the different laboratories at 5% significance level"
   ]
  },
  {
   "cell_type": "markdown",
   "id": "f626a618-7b04-4d8a-8ff8-3546edd952d5",
   "metadata": {},
   "source": [
    "1 - Business Problem"
   ]
  },
  {
   "cell_type": "markdown",
   "id": "73403d93-a155-473d-b301-5d8e31cf9ce4",
   "metadata": {},
   "source": [
    "Is there a significant difference in the average Turn Around Time between laboratories ?"
   ]
  },
  {
   "cell_type": "markdown",
   "id": "5c192d3a-57b3-4755-be4b-99462f83b15e",
   "metadata": {},
   "source": [
    "2 - Data description\n",
    "α == 0.05 (95% Confidence)\n",
    "\n",
    "Y == Continious\n",
    "X == Discrete\n",
    "\n",
    "Is Y1, Y2, Y3 and Y4 normal ?\n",
    "\n",
    "H0 = Y1, Y2, Y3 and Y4 are normal\n",
    "H1 = Y1, Y2, Y3 and Y4 are not normal\n",
    "\n",
    "3 - Normality Test"
   ]
  },
  {
   "cell_type": "code",
   "execution_count": 2,
   "id": "69f82eb8-0e73-49d3-ba91-314598f73c2e",
   "metadata": {},
   "outputs": [],
   "source": [
    "df = pd.read_csv(\"C:/Users/hp/OneDrive/Desktop/DataScience Assignment/Hypothesis Testing/Raw_Data/LabTAT.csv\")"
   ]
  },
  {
   "cell_type": "code",
   "execution_count": 3,
   "id": "82c2f580-b51f-41ac-9978-1ea78fc51e70",
   "metadata": {},
   "outputs": [
    {
     "data": {
      "text/plain": [
       "ShapiroResult(statistic=0.990183413028717, pvalue=0.5507769584655762)"
      ]
     },
     "execution_count": 3,
     "metadata": {},
     "output_type": "execute_result"
    }
   ],
   "source": [
    "stats.shapiro(df[\"Laboratory 1\"])"
   ]
  },
  {
   "cell_type": "markdown",
   "id": "e736dbd1-6f19-402f-b740-e7d50be3cf99",
   "metadata": {},
   "source": [
    "(0.9901824593544006, 0.5506953597068787)\n",
    "P value for Laboratory 1 == 0.55 > α\n"
   ]
  },
  {
   "cell_type": "code",
   "execution_count": 4,
   "id": "9799bbc6-fbff-477b-857f-aa8c18ad8775",
   "metadata": {},
   "outputs": [
    {
     "data": {
      "text/plain": [
       "ShapiroResult(statistic=0.9936320185661316, pvalue=0.8637352585792542)"
      ]
     },
     "execution_count": 4,
     "metadata": {},
     "output_type": "execute_result"
    }
   ],
   "source": [
    "stats.shapiro(df[\"Laboratory 2\"])"
   ]
  },
  {
   "cell_type": "markdown",
   "id": "036cb220-69a5-4623-9d5c-204d9368e34d",
   "metadata": {},
   "source": [
    "(0.9936322569847107, 0.8637524843215942)\n",
    "P value for Laboratory 2 == 0.86 > α"
   ]
  },
  {
   "cell_type": "code",
   "execution_count": 5,
   "id": "b0467d67-363a-4130-97e7-bcc35b8c4b41",
   "metadata": {},
   "outputs": [
    {
     "data": {
      "text/plain": [
       "ShapiroResult(statistic=0.988633930683136, pvalue=0.42045730352401733)"
      ]
     },
     "execution_count": 5,
     "metadata": {},
     "output_type": "execute_result"
    }
   ],
   "source": [
    "stats.shapiro(df[\"Laboratory 3\"])"
   ]
  },
  {
   "cell_type": "markdown",
   "id": "672fdd22-4b60-456a-a48d-e7d352dccdff",
   "metadata": {},
   "source": [
    "(0.9886345267295837, 0.4205053448677063)\n",
    "P value for Laboratory 3 == 0.42 > α"
   ]
  },
  {
   "cell_type": "code",
   "execution_count": 6,
   "id": "40527b8a-b9df-4638-bfd9-99f99317f335",
   "metadata": {},
   "outputs": [
    {
     "data": {
      "text/plain": [
       "ShapiroResult(statistic=0.9913760423660278, pvalue=0.6619619131088257)"
      ]
     },
     "execution_count": 6,
     "metadata": {},
     "output_type": "execute_result"
    }
   ],
   "source": [
    "stats.shapiro(df[\"Laboratory 4\"])"
   ]
  },
  {
   "cell_type": "markdown",
   "id": "10b170fe-bbf1-45b9-b347-72acf4779076",
   "metadata": {},
   "source": [
    "(0.9913753271102905, 0.6618951559066772)\n",
    "P value for Y1 (Unit B) == 0.66 > α"
   ]
  },
  {
   "cell_type": "markdown",
   "id": "11141106-6166-4993-adff-dd47340426fb",
   "metadata": {},
   "source": [
    "HO is accepted. Thats is Y1, Y2, Y3, and Y4 are normal\n",
    "4 - Variance\n",
    "H0 == Variance of all 4 laboratories are the same\n",
    "H1 == Variance of all 4 laboratories are the not same"
   ]
  },
  {
   "cell_type": "code",
   "execution_count": 7,
   "id": "cd46023a-9c6b-4da3-8809-50990c2bfc99",
   "metadata": {},
   "outputs": [
    {
     "data": {
      "text/plain": [
       "LeveneResult(statistic=2.599642500418024, pvalue=0.05161343808309815)"
      ]
     },
     "execution_count": 7,
     "metadata": {},
     "output_type": "execute_result"
    }
   ],
   "source": [
    "stats.levene(df[\"Laboratory 1\"], df[\"Laboratory 2\"], df[\"Laboratory 3\"], df[\"Laboratory 4\"])"
   ]
  },
  {
   "cell_type": "markdown",
   "id": "a299d801-5991-4cf2-a1f8-8a3f068e8f44",
   "metadata": {},
   "source": [
    "LeveneResult(statistic=2.599642500418024, pvalue=0.05161343808309816)\n",
    "P Value of Variance test is == 0.051 > α\n",
    "\n",
    "H0 is accepted\n",
    "Thus we will perform one way Anova Test\n",
    "5 - Model\n",
    "H0 == Mean TAT for 4 laboratories equal (There is no significance difference between TAT of the laboratories)\n",
    "H1 == Mean TAT for 4 laboratories not equal (There is a significance difference between TAT of the laboratories)"
   ]
  },
  {
   "cell_type": "code",
   "execution_count": 9,
   "id": "9485402e-4fae-42db-a15f-7cd133ea0a25",
   "metadata": {},
   "outputs": [
    {
     "name": "stderr",
     "output_type": "stream",
     "text": [
      "C:\\Users\\hp\\AppData\\Local\\Temp\\ipykernel_19368\\3602434539.py:1: DeprecationWarning: Please use `f_oneway` from the `scipy.stats` namespace, the `scipy.stats.stats` namespace is deprecated.\n",
      "  stats.stats.f_oneway(df[\"Laboratory 1\"], df[\"Laboratory 2\"], df[\"Laboratory 3\"], df[\"Laboratory 4\"])\n"
     ]
    },
    {
     "data": {
      "text/plain": [
       "F_onewayResult(statistic=118.70421654401437, pvalue=2.1156708949992414e-57)"
      ]
     },
     "execution_count": 9,
     "metadata": {},
     "output_type": "execute_result"
    }
   ],
   "source": [
    "stats.stats.f_oneway(df[\"Laboratory 1\"], df[\"Laboratory 2\"], df[\"Laboratory 3\"], df[\"Laboratory 4\"])"
   ]
  },
  {
   "cell_type": "markdown",
   "id": "715756f7-bd62-4cdf-9d5f-52f57df2f229",
   "metadata": {},
   "source": [
    "F_onewayResult(statistic=118.70421654401437, pvalue=2.1156708949992414e-57)\n",
    "P value of the One way Anova test is == 2e-16 < α"
   ]
  },
  {
   "cell_type": "markdown",
   "id": "df31fa7d-e3a8-49d0-92c2-503ed5cee777",
   "metadata": {},
   "source": [
    "Thus H1 is accepted."
   ]
  },
  {
   "cell_type": "markdown",
   "id": "80a9e96c-266a-41ce-89f5-4d5fb184bb1c",
   "metadata": {},
   "source": [
    "Mean TAT for 4 laboratories not equal (There is a significance difference between TAT of the laboratories)"
   ]
  }
 ],
 "metadata": {
  "kernelspec": {
   "display_name": "Python 3 (ipykernel)",
   "language": "python",
   "name": "python3"
  },
  "language_info": {
   "codemirror_mode": {
    "name": "ipython",
    "version": 3
   },
   "file_extension": ".py",
   "mimetype": "text/x-python",
   "name": "python",
   "nbconvert_exporter": "python",
   "pygments_lexer": "ipython3",
   "version": "3.12.0"
  }
 },
 "nbformat": 4,
 "nbformat_minor": 5
}
