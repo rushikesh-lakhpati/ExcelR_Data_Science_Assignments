{
 "cells": [
  {
   "cell_type": "code",
   "execution_count": 1,
   "id": "415d0d9c-eddf-42d5-9060-4db19fb6a3c9",
   "metadata": {},
   "outputs": [],
   "source": [
    "import pandas as pd\n",
    "import numpy as np\n",
    "from scipy import stats"
   ]
  },
  {
   "cell_type": "markdown",
   "id": "b3baa941-3b4b-42f7-a4cc-2ef1615581b0",
   "metadata": {},
   "source": [
    "Problem Statement :"
   ]
  },
  {
   "cell_type": "markdown",
   "id": "8ff48b0d-43cc-4ef4-8503-bd7c0694a466",
   "metadata": {},
   "source": [
    "A F&B manager wants to determine whether there is any significant difference in the diameter of the cutlet between two units. A randomly selected sample of cutlets was collected from both units and measured? Analyze the data and draw inferences at 5% significance level. Please state the assumptions and tests that you carried out to check validity of the assumptions"
   ]
  },
  {
   "cell_type": "markdown",
   "id": "f61cece7-549a-4415-8315-ddc5837059bb",
   "metadata": {},
   "source": [
    "1 - Business Problem"
   ]
  },
  {
   "cell_type": "markdown",
   "id": "78acb2bf-fcd8-44c9-b598-001a91f1125e",
   "metadata": {},
   "source": [
    "Is there significant difference in the diameter of the cutlet ?"
   ]
  },
  {
   "cell_type": "markdown",
   "id": "20127951-5041-40bf-83da-a1a99db3201f",
   "metadata": {},
   "source": [
    "2 - Data description"
   ]
  },
  {
   "cell_type": "markdown",
   "id": "66b7f2cf-1072-424e-84b3-5a91b88c362b",
   "metadata": {},
   "source": [
    "α == 0.05 (95% Confidence)"
   ]
  },
  {
   "cell_type": "markdown",
   "id": "2f174f39-8ada-4aba-9b07-5a820eec3ec9",
   "metadata": {},
   "source": [
    "Y == Continious"
   ]
  },
  {
   "cell_type": "markdown",
   "id": "96e2e030-acaa-44ce-b7d0-aa90569c04b9",
   "metadata": {},
   "source": [
    "X == Discrete"
   ]
  },
  {
   "cell_type": "markdown",
   "id": "6863bece-218f-4ac7-9615-e81486206f1d",
   "metadata": {},
   "source": [
    "Is Y1 and Y2 normal ?"
   ]
  },
  {
   "cell_type": "markdown",
   "id": "e8f2ef2d-7621-4c57-8f36-a5d7a368fde4",
   "metadata": {},
   "source": [
    "H0 = Y1 and Y2 are normal\r\n",
    "H1 = Y1 and Y2 are not normal"
   ]
  },
  {
   "cell_type": "markdown",
   "id": "a010bd04-63b4-4f6c-84a9-b5851816229d",
   "metadata": {},
   "source": [
    "3 - Normality Test"
   ]
  },
  {
   "cell_type": "code",
   "execution_count": 2,
   "id": "71454ea7-fd44-445e-a73c-02773bda2d57",
   "metadata": {},
   "outputs": [],
   "source": [
    "df = pd.read_csv(\"C:/Users/hp/OneDrive/Desktop/DataScience Assignment/Hypothesis Testing/Raw_Data/Cutlets.csv\")"
   ]
  },
  {
   "cell_type": "code",
   "execution_count": 3,
   "id": "3b3e5618-9bd3-4565-8249-8a46c948759a",
   "metadata": {},
   "outputs": [
    {
     "data": {
      "text/plain": [
       "ShapiroResult(statistic=0.9649459719657898, pvalue=0.31998491287231445)"
      ]
     },
     "execution_count": 3,
     "metadata": {},
     "output_type": "execute_result"
    }
   ],
   "source": [
    "stats.shapiro(df[\"Unit A\"])"
   ]
  },
  {
   "cell_type": "markdown",
   "id": "e314a334-bc83-4337-bdb6-35ad39fc9418",
   "metadata": {},
   "source": [
    "P value for Unit A == 0.32 > α"
   ]
  },
  {
   "cell_type": "code",
   "execution_count": 4,
   "id": "5fbd8dee-d9bb-4144-8f46-95c9b548efea",
   "metadata": {},
   "outputs": [
    {
     "data": {
      "text/plain": [
       "ShapiroResult(statistic=0.9727305769920349, pvalue=0.5225146412849426)"
      ]
     },
     "execution_count": 4,
     "metadata": {},
     "output_type": "execute_result"
    }
   ],
   "source": [
    "stats.shapiro(df[\"Unit B\"])"
   ]
  },
  {
   "cell_type": "markdown",
   "id": "d00d2530-ec19-4325-aa10-0469dc21ea60",
   "metadata": {},
   "source": [
    "P value for Unit B == 0.52 > α"
   ]
  },
  {
   "cell_type": "markdown",
   "id": "6f7e4e3f-b677-4fa9-825e-4718900bf8d2",
   "metadata": {},
   "source": [
    "HO is accepted. Thats is both Y1 and Y2 are normal"
   ]
  },
  {
   "cell_type": "markdown",
   "id": "b5341667-51d7-477b-b8f3-fb91cf6c8b4b",
   "metadata": {},
   "source": [
    "4 - External Condition"
   ]
  },
  {
   "cell_type": "markdown",
   "id": "0b8b3e2f-f6d1-4364-9969-4353b7c9c084",
   "metadata": {},
   "source": [
    "External condition are same."
   ]
  },
  {
   "cell_type": "markdown",
   "id": "7fdb25a0-68a5-4be8-b306-c8e8bfa160cb",
   "metadata": {},
   "source": [
    "Thus we can perform Paired T Test"
   ]
  },
  {
   "cell_type": "markdown",
   "id": "077ee72a-10df-4d7e-91ae-d11dfd8fcd41",
   "metadata": {},
   "source": [
    "5 - Model"
   ]
  },
  {
   "cell_type": "markdown",
   "id": "8e66d700-3a59-4971-871a-4d3e46dad66c",
   "metadata": {},
   "source": [
    "H0 == Mean for Y1 and Y2 are equal (There is no significance difference between diameter of the Culets)"
   ]
  },
  {
   "cell_type": "markdown",
   "id": "9431630d-4ea3-470b-91d3-2e5b4cbec1b6",
   "metadata": {},
   "source": [
    "H1 == Mean for Y1 and Y2 are not equal (There is a significance difference between diameter of the Culets)"
   ]
  },
  {
   "cell_type": "code",
   "execution_count": 5,
   "id": "c1073282-40c7-487c-aaa8-b95649248e14",
   "metadata": {},
   "outputs": [
    {
     "data": {
      "text/plain": [
       "TtestResult(statistic=0.7536787225614316, pvalue=0.4562300768038412, df=34)"
      ]
     },
     "execution_count": 5,
     "metadata": {},
     "output_type": "execute_result"
    }
   ],
   "source": [
    "stats.ttest_rel(df[\"Unit A\"], df[\"Unit B\"])"
   ]
  },
  {
   "cell_type": "markdown",
   "id": "0fd20b8d-52e4-4b71-8868-b64634709ca0",
   "metadata": {},
   "source": [
    "Ttest_relResult(statistic=0.7536787225614323, pvalue=0.45623007680384076)"
   ]
  },
  {
   "cell_type": "markdown",
   "id": "019a56c1-8a1b-4232-a8be-b0311a2a1281",
   "metadata": {},
   "source": [
    "P value of the Paired T Test is == 0.45 > α"
   ]
  },
  {
   "cell_type": "markdown",
   "id": "9e03c719-f471-459e-b12f-988474776451",
   "metadata": {},
   "source": [
    "Thus H0 is accepted."
   ]
  },
  {
   "cell_type": "markdown",
   "id": "5d3452d2-0314-4897-aae5-d2ab4c1e6fda",
   "metadata": {},
   "source": [
    "Mean of both Y1 and Y2 are equal"
   ]
  }
 ],
 "metadata": {
  "kernelspec": {
   "display_name": "Python 3 (ipykernel)",
   "language": "python",
   "name": "python3"
  },
  "language_info": {
   "codemirror_mode": {
    "name": "ipython",
    "version": 3
   },
   "file_extension": ".py",
   "mimetype": "text/x-python",
   "name": "python",
   "nbconvert_exporter": "python",
   "pygments_lexer": "ipython3",
   "version": "3.12.0"
  }
 },
 "nbformat": 4,
 "nbformat_minor": 5
}
